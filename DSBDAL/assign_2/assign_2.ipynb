{
 "cells": [
  {
   "cell_type": "code",
   "execution_count": 47,
   "id": "c7a4cc58",
   "metadata": {},
   "outputs": [],
   "source": [
    "import pandas as pd\n",
    "import numpy as np\n",
    "from scipy import stats"
   ]
  },
  {
   "cell_type": "code",
   "execution_count": 48,
   "id": "fedf412f",
   "metadata": {},
   "outputs": [],
   "source": [
    "df=pd.read_csv('Assign2_data.csv')"
   ]
  },
  {
   "cell_type": "code",
   "execution_count": 49,
   "id": "82a51041",
   "metadata": {},
   "outputs": [
    {
     "data": {
      "text/html": [
       "<div>\n",
       "<style scoped>\n",
       "    .dataframe tbody tr th:only-of-type {\n",
       "        vertical-align: middle;\n",
       "    }\n",
       "\n",
       "    .dataframe tbody tr th {\n",
       "        vertical-align: top;\n",
       "    }\n",
       "\n",
       "    .dataframe thead th {\n",
       "        text-align: right;\n",
       "    }\n",
       "</style>\n",
       "<table border=\"1\" class=\"dataframe\">\n",
       "  <thead>\n",
       "    <tr style=\"text-align: right;\">\n",
       "      <th></th>\n",
       "      <th>Roll_No</th>\n",
       "      <th>First Name</th>\n",
       "      <th>Last Name</th>\n",
       "      <th>Gender</th>\n",
       "      <th>Age</th>\n",
       "      <th>Total Subjects</th>\n",
       "      <th>Sub1</th>\n",
       "      <th>Sub2</th>\n",
       "      <th>Sub3</th>\n",
       "      <th>Sub4</th>\n",
       "      <th>Percentage</th>\n",
       "    </tr>\n",
       "  </thead>\n",
       "  <tbody>\n",
       "    <tr>\n",
       "      <th>0</th>\n",
       "      <td>1</td>\n",
       "      <td>Ethan</td>\n",
       "      <td>Smith</td>\n",
       "      <td>M</td>\n",
       "      <td>21</td>\n",
       "      <td>4</td>\n",
       "      <td>66.0</td>\n",
       "      <td>68.0</td>\n",
       "      <td>70.0</td>\n",
       "      <td>93.0</td>\n",
       "      <td>74.250000</td>\n",
       "    </tr>\n",
       "    <tr>\n",
       "      <th>1</th>\n",
       "      <td>2</td>\n",
       "      <td>Jacob</td>\n",
       "      <td>Johnson</td>\n",
       "      <td>M</td>\n",
       "      <td>20</td>\n",
       "      <td>4</td>\n",
       "      <td>90.0</td>\n",
       "      <td>78.0</td>\n",
       "      <td>61.0</td>\n",
       "      <td>69.0</td>\n",
       "      <td>74.500000</td>\n",
       "    </tr>\n",
       "    <tr>\n",
       "      <th>2</th>\n",
       "      <td>3</td>\n",
       "      <td>Logan</td>\n",
       "      <td>Williams</td>\n",
       "      <td>M</td>\n",
       "      <td>19</td>\n",
       "      <td>4</td>\n",
       "      <td>67.0</td>\n",
       "      <td>NaN</td>\n",
       "      <td>90.0</td>\n",
       "      <td>67.0</td>\n",
       "      <td>74.666667</td>\n",
       "    </tr>\n",
       "    <tr>\n",
       "      <th>3</th>\n",
       "      <td>4</td>\n",
       "      <td>Jack</td>\n",
       "      <td>Brown</td>\n",
       "      <td>M</td>\n",
       "      <td>21</td>\n",
       "      <td>4</td>\n",
       "      <td>10.0</td>\n",
       "      <td>64.0</td>\n",
       "      <td>69.0</td>\n",
       "      <td>72.0</td>\n",
       "      <td>53.750000</td>\n",
       "    </tr>\n",
       "    <tr>\n",
       "      <th>4</th>\n",
       "      <td>5</td>\n",
       "      <td>Emily</td>\n",
       "      <td>Jones</td>\n",
       "      <td>F</td>\n",
       "      <td>21</td>\n",
       "      <td>4</td>\n",
       "      <td>67.0</td>\n",
       "      <td>60.0</td>\n",
       "      <td>NaN</td>\n",
       "      <td>84.0</td>\n",
       "      <td>70.333333</td>\n",
       "    </tr>\n",
       "  </tbody>\n",
       "</table>\n",
       "</div>"
      ],
      "text/plain": [
       "   Roll_No First Name Last Name Gender  Age  Total Subjects  Sub1  Sub2  Sub3  \\\n",
       "0        1      Ethan     Smith      M   21               4  66.0  68.0  70.0   \n",
       "1        2      Jacob   Johnson      M   20               4  90.0  78.0  61.0   \n",
       "2        3      Logan  Williams      M   19               4  67.0   NaN  90.0   \n",
       "3        4       Jack     Brown      M   21               4  10.0  64.0  69.0   \n",
       "4        5      Emily     Jones      F   21               4  67.0  60.0   NaN   \n",
       "\n",
       "   Sub4  Percentage  \n",
       "0  93.0   74.250000  \n",
       "1  69.0   74.500000  \n",
       "2  67.0   74.666667  \n",
       "3  72.0   53.750000  \n",
       "4  84.0   70.333333  "
      ]
     },
     "execution_count": 49,
     "metadata": {},
     "output_type": "execute_result"
    }
   ],
   "source": [
    "df.head()"
   ]
  },
  {
   "cell_type": "code",
   "execution_count": 50,
   "id": "8dcb6332",
   "metadata": {},
   "outputs": [
    {
     "data": {
      "text/plain": [
       "Sub2              9\n",
       "Sub3              9\n",
       "Sub1              6\n",
       "Sub4              4\n",
       "Roll_No           0\n",
       "First Name        0\n",
       "Last Name         0\n",
       "Gender            0\n",
       "Age               0\n",
       "Total Subjects    0\n",
       "Percentage        0\n",
       "dtype: int64"
      ]
     },
     "execution_count": 50,
     "metadata": {},
     "output_type": "execute_result"
    }
   ],
   "source": [
    "df.isnull().sum().sort_values(ascending=False)"
   ]
  },
  {
   "cell_type": "code",
   "execution_count": 51,
   "id": "a035bf61",
   "metadata": {},
   "outputs": [
    {
     "data": {
      "text/html": [
       "<div>\n",
       "<style scoped>\n",
       "    .dataframe tbody tr th:only-of-type {\n",
       "        vertical-align: middle;\n",
       "    }\n",
       "\n",
       "    .dataframe tbody tr th {\n",
       "        vertical-align: top;\n",
       "    }\n",
       "\n",
       "    .dataframe thead th {\n",
       "        text-align: right;\n",
       "    }\n",
       "</style>\n",
       "<table border=\"1\" class=\"dataframe\">\n",
       "  <thead>\n",
       "    <tr style=\"text-align: right;\">\n",
       "      <th></th>\n",
       "      <th>Roll_No</th>\n",
       "      <th>Age</th>\n",
       "      <th>Total Subjects</th>\n",
       "      <th>Sub1</th>\n",
       "      <th>Sub2</th>\n",
       "      <th>Sub3</th>\n",
       "      <th>Sub4</th>\n",
       "      <th>Percentage</th>\n",
       "    </tr>\n",
       "  </thead>\n",
       "  <tbody>\n",
       "    <tr>\n",
       "      <th>count</th>\n",
       "      <td>98.000000</td>\n",
       "      <td>98.000000</td>\n",
       "      <td>98.0</td>\n",
       "      <td>92.00000</td>\n",
       "      <td>89.000000</td>\n",
       "      <td>89.000000</td>\n",
       "      <td>94.000000</td>\n",
       "      <td>98.000000</td>\n",
       "    </tr>\n",
       "    <tr>\n",
       "      <th>mean</th>\n",
       "      <td>49.500000</td>\n",
       "      <td>20.387755</td>\n",
       "      <td>4.0</td>\n",
       "      <td>75.75000</td>\n",
       "      <td>75.853933</td>\n",
       "      <td>75.764045</td>\n",
       "      <td>84.212766</td>\n",
       "      <td>78.018707</td>\n",
       "    </tr>\n",
       "    <tr>\n",
       "      <th>std</th>\n",
       "      <td>28.434134</td>\n",
       "      <td>1.475802</td>\n",
       "      <td>0.0</td>\n",
       "      <td>49.34597</td>\n",
       "      <td>26.742693</td>\n",
       "      <td>22.815476</td>\n",
       "      <td>101.838357</td>\n",
       "      <td>30.946267</td>\n",
       "    </tr>\n",
       "    <tr>\n",
       "      <th>min</th>\n",
       "      <td>1.000000</td>\n",
       "      <td>12.000000</td>\n",
       "      <td>4.0</td>\n",
       "      <td>-60.00000</td>\n",
       "      <td>-40.000000</td>\n",
       "      <td>-99.000000</td>\n",
       "      <td>-90.000000</td>\n",
       "      <td>29.000000</td>\n",
       "    </tr>\n",
       "    <tr>\n",
       "      <th>25%</th>\n",
       "      <td>25.250000</td>\n",
       "      <td>20.000000</td>\n",
       "      <td>4.0</td>\n",
       "      <td>65.00000</td>\n",
       "      <td>66.000000</td>\n",
       "      <td>68.000000</td>\n",
       "      <td>69.250000</td>\n",
       "      <td>71.500000</td>\n",
       "    </tr>\n",
       "    <tr>\n",
       "      <th>50%</th>\n",
       "      <td>49.500000</td>\n",
       "      <td>21.000000</td>\n",
       "      <td>4.0</td>\n",
       "      <td>72.00000</td>\n",
       "      <td>76.000000</td>\n",
       "      <td>79.000000</td>\n",
       "      <td>78.000000</td>\n",
       "      <td>76.250000</td>\n",
       "    </tr>\n",
       "    <tr>\n",
       "      <th>75%</th>\n",
       "      <td>73.750000</td>\n",
       "      <td>21.000000</td>\n",
       "      <td>4.0</td>\n",
       "      <td>83.50000</td>\n",
       "      <td>88.000000</td>\n",
       "      <td>89.000000</td>\n",
       "      <td>85.000000</td>\n",
       "      <td>80.312500</td>\n",
       "    </tr>\n",
       "    <tr>\n",
       "      <th>max</th>\n",
       "      <td>98.000000</td>\n",
       "      <td>22.000000</td>\n",
       "      <td>4.0</td>\n",
       "      <td>400.00000</td>\n",
       "      <td>250.000000</td>\n",
       "      <td>95.000000</td>\n",
       "      <td>1000.000000</td>\n",
       "      <td>313.500000</td>\n",
       "    </tr>\n",
       "  </tbody>\n",
       "</table>\n",
       "</div>"
      ],
      "text/plain": [
       "         Roll_No        Age  Total Subjects       Sub1        Sub2       Sub3  \\\n",
       "count  98.000000  98.000000            98.0   92.00000   89.000000  89.000000   \n",
       "mean   49.500000  20.387755             4.0   75.75000   75.853933  75.764045   \n",
       "std    28.434134   1.475802             0.0   49.34597   26.742693  22.815476   \n",
       "min     1.000000  12.000000             4.0  -60.00000  -40.000000 -99.000000   \n",
       "25%    25.250000  20.000000             4.0   65.00000   66.000000  68.000000   \n",
       "50%    49.500000  21.000000             4.0   72.00000   76.000000  79.000000   \n",
       "75%    73.750000  21.000000             4.0   83.50000   88.000000  89.000000   \n",
       "max    98.000000  22.000000             4.0  400.00000  250.000000  95.000000   \n",
       "\n",
       "              Sub4  Percentage  \n",
       "count    94.000000   98.000000  \n",
       "mean     84.212766   78.018707  \n",
       "std     101.838357   30.946267  \n",
       "min     -90.000000   29.000000  \n",
       "25%      69.250000   71.500000  \n",
       "50%      78.000000   76.250000  \n",
       "75%      85.000000   80.312500  \n",
       "max    1000.000000  313.500000  "
      ]
     },
     "execution_count": 51,
     "metadata": {},
     "output_type": "execute_result"
    }
   ],
   "source": [
    "df.describe()"
   ]
  },
  {
   "cell_type": "code",
   "execution_count": 52,
   "id": "ca6e5785",
   "metadata": {},
   "outputs": [
    {
     "name": "stdout",
     "output_type": "stream",
     "text": [
      "<class 'pandas.core.frame.DataFrame'>\n",
      "RangeIndex: 98 entries, 0 to 97\n",
      "Data columns (total 11 columns):\n",
      " #   Column          Non-Null Count  Dtype  \n",
      "---  ------          --------------  -----  \n",
      " 0   Roll_No         98 non-null     int64  \n",
      " 1   First Name      98 non-null     object \n",
      " 2   Last Name       98 non-null     object \n",
      " 3   Gender          98 non-null     object \n",
      " 4   Age             98 non-null     int64  \n",
      " 5   Total Subjects  98 non-null     int64  \n",
      " 6   Sub1            92 non-null     float64\n",
      " 7   Sub2            89 non-null     float64\n",
      " 8   Sub3            89 non-null     float64\n",
      " 9   Sub4            94 non-null     float64\n",
      " 10  Percentage      98 non-null     float64\n",
      "dtypes: float64(5), int64(3), object(3)\n",
      "memory usage: 8.5+ KB\n"
     ]
    }
   ],
   "source": [
    "df.info()"
   ]
  },
  {
   "cell_type": "code",
   "execution_count": 53,
   "id": "4184ac5d",
   "metadata": {},
   "outputs": [],
   "source": [
    "pd.options.mode.chained_assignment = None\n",
    "for i in range(df.shape[0]):\n",
    "    if(df.Sub1[i]<0 or df.Sub1[i]>100):\n",
    "        df.Sub1[i]=(np.nan)\n",
    "    if(df.Sub2[i]<0 or df.Sub2[i]>100):\n",
    "        df.Sub2[i]=(np.nan)\n",
    "    if(df.Sub3[i]<0 or df.Sub3[i]>100):\n",
    "        df.Sub3[i]=(np.nan)\n",
    "    if(df.Sub4[i]<0 or df.Sub4[i]>100):\n",
    "        df.Sub4[i]=(np.nan)"
   ]
  },
  {
   "cell_type": "code",
   "execution_count": 54,
   "id": "ae6788c4",
   "metadata": {},
   "outputs": [
    {
     "data": {
      "text/plain": [
       "<AxesSubplot:>"
      ]
     },
     "execution_count": 54,
     "metadata": {},
     "output_type": "execute_result"
    },
    {
     "data": {
      "image/png": "[encoded data removed]",
      "text/plain": [
       "<Figure size 432x288 with 1 Axes>"
      ]
     },
     "metadata": {
      "needs_background": "light"
     },
     "output_type": "display_data"
    }
   ],
   "source": [
    "df.boxplot(column=['Sub1'],return_type='axes')"
   ]
  },
  {
   "cell_type": "code",
   "execution_count": 55,
   "id": "e522e52a",
   "metadata": {},
   "outputs": [
    {
     "data": {
      "text/plain": [
       "<AxesSubplot:>"
      ]
     },
     "execution_count": 55,
     "metadata": {},
     "output_type": "execute_result"
    },
    {
     "data": {
      "image/png": "[encoded data removed]",
      "text/plain": [
       "<Figure size 432x288 with 1 Axes>"
      ]
     },
     "metadata": {
      "needs_background": "light"
     },
     "output_type": "display_data"
    }
   ],
   "source": [
    "df.boxplot(column=['Sub2'],return_type='axes')"
   ]
  },
  {
   "cell_type": "code",
   "execution_count": 56,
   "id": "35eb5863",
   "metadata": {},
   "outputs": [
    {
     "data": {
      "text/plain": [
       "<AxesSubplot:>"
      ]
     },
     "execution_count": 56,
     "metadata": {},
     "output_type": "execute_result"
    },
    {
     "data": {
      "image/png": "[encoded data removed]",
      "text/plain": [
       "<Figure size 432x288 with 1 Axes>"
      ]
     },
     "metadata": {
      "needs_background": "light"
     },
     "output_type": "display_data"
    }
   ],
   "source": [
    "df.boxplot(column=['Sub3'],return_type='axes')"
   ]
  },
  {
   "cell_type": "code",
   "execution_count": 57,
   "id": "d2b48b0b",
   "metadata": {},
   "outputs": [
    {
     "data": {
      "text/plain": [
       "<AxesSubplot:>"
      ]
     },
     "execution_count": 57,
     "metadata": {},
     "output_type": "execute_result"
    },
    {
     "data": {
      "image/png": "[encoded data removed]",
      "text/plain": [
       "<Figure size 432x288 with 1 Axes>"
      ]
     },
     "metadata": {
      "needs_background": "light"
     },
     "output_type": "display_data"
    }
   ],
   "source": [
    "df.boxplot(column=['Sub4'],return_type='axes')"
   ]
  },
  {
   "cell_type": "code",
   "execution_count": 58,
   "id": "9c4b7369",
   "metadata": {},
   "outputs": [],
   "source": [
    "Q1=df['Sub1'].quantile(0.25)\n",
    "Q3=df['Sub1'].quantile(0.75)\n",
    "IQR=Q3-Q1\n",
    "Lower_Whisker=Q1-1.5*IQR\n",
    "median = df.loc[df['Sub1']>Lower_Whisker, 'Sub1'].median()\n",
    "df['Sub1']=np.where(df['Sub1']<Lower_Whisker,median,df['Sub1'])"
   ]
  },
  {
   "cell_type": "code",
   "execution_count": 59,
   "id": "86c2f2ba",
   "metadata": {},
   "outputs": [
    {
     "data": {
      "text/plain": [
       "<AxesSubplot:>"
      ]
     },
     "execution_count": 59,
     "metadata": {},
     "output_type": "execute_result"
    },
    {
     "data": {
      "image/png": "[encoded data removed]",
      "text/plain": [
       "<Figure size 432x288 with 1 Axes>"
      ]
     },
     "metadata": {
      "needs_background": "light"
     },
     "output_type": "display_data"
    }
   ],
   "source": [
    "df.boxplot(column=['Sub1'],return_type='axes')"
   ]
  },
  {
   "cell_type": "code",
   "execution_count": 60,
   "id": "6d05ea2e",
   "metadata": {},
   "outputs": [],
   "source": [
    "Q1=df['Sub2'].quantile(0.25)\n",
    "Q3=df['Sub2'].quantile(0.75)\n",
    "IQR=Q3-Q1\n",
    "Lower_Whisker=Q1-1.5*IQR\n",
    "median = df.loc[df['Sub2']>Lower_Whisker, 'Sub2'].median()\n",
    "df['Sub2']=np.where(df['Sub2']<Lower_Whisker,median,df['Sub2'])"
   ]
  },
  {
   "cell_type": "code",
   "execution_count": 61,
   "id": "6c6be864",
   "metadata": {},
   "outputs": [
    {
     "data": {
      "text/plain": [
       "<AxesSubplot:>"
      ]
     },
     "execution_count": 61,
     "metadata": {},
     "output_type": "execute_result"
    },
    {
     "data": {
      "image/png": "[encoded data removed]",
      "text/plain": [
       "<Figure size 432x288 with 1 Axes>"
      ]
     },
     "metadata": {
      "needs_background": "light"
     },
     "output_type": "display_data"
    }
   ],
   "source": [
    "df.boxplot(column=['Sub2'],return_type='axes')"
   ]
  },
  {
   "cell_type": "code",
   "execution_count": 62,
   "id": "1c955f68",
   "metadata": {},
   "outputs": [],
   "source": [
    "Q1=df['Sub3'].quantile(0.25)\n",
    "Q3=df['Sub3'].quantile(0.75)\n",
    "IQR=Q3-Q1\n",
    "Lower_Whisker=Q1-1.5*IQR\n",
    "median = df.loc[df['Sub3']>Lower_Whisker, 'Sub3'].median()\n",
    "df['Sub3']=np.where(df['Sub3']<Lower_Whisker,median,df['Sub3'])"
   ]
  },
  {
   "cell_type": "code",
   "execution_count": 63,
   "id": "2613260b",
   "metadata": {},
   "outputs": [
    {
     "data": {
      "text/plain": [
       "<AxesSubplot:>"
      ]
     },
     "execution_count": 63,
     "metadata": {},
     "output_type": "execute_result"
    },
    {
     "data": {
      "image/png": "[encoded data removed]",
      "text/plain": [
       "<Figure size 432x288 with 1 Axes>"
      ]
     },
     "metadata": {
      "needs_background": "light"
     },
     "output_type": "display_data"
    }
   ],
   "source": [
    "df.boxplot(column=['Sub3'],return_type='axes')"
   ]
  },
  {
   "cell_type": "code",
   "execution_count": 64,
   "id": "a28d8ade",
   "metadata": {},
   "outputs": [],
   "source": [
    "Q1=df['Sub4'].quantile(0.25)\n",
    "Q3=df['Sub4'].quantile(0.75)\n",
    "IQR=Q3-Q1\n",
    "Lower_Whisker=Q1-1.5*IQR\n",
    "median = df.loc[df['Sub4']>Lower_Whisker, 'Sub4'].median()\n",
    "df['Sub4']=np.where(df['Sub4']<Lower_Whisker,median,df['Sub4'])"
   ]
  },
  {
   "cell_type": "code",
   "execution_count": 65,
   "id": "f5736235",
   "metadata": {},
   "outputs": [
    {
     "data": {
      "text/plain": [
       "<AxesSubplot:>"
      ]
     },
     "execution_count": 65,
     "metadata": {},
     "output_type": "execute_result"
    },
    {
     "data": {
      "image/png": "[encoded data removed]",
      "text/plain": [
       "<Figure size 432x288 with 1 Axes>"
      ]
     },
     "metadata": {
      "needs_background": "light"
     },
     "output_type": "display_data"
    }
   ],
   "source": [
    "df.boxplot(column=['Sub4'],return_type='axes')"
   ]
  },
  {
   "cell_type": "code",
   "execution_count": 71,
   "id": "65d5ecdb",
   "metadata": {},
   "outputs": [],
   "source": [
    "df['Sub1'].fillna((df['Sub1'].mean()),inplace=True)\n",
    "df['Sub2'].fillna((df['Sub2'].mean()),inplace=True)\n",
    "df['Sub3'].fillna((df['Sub3'].mean()),inplace=True)\n",
    "df['Sub4'].fillna((df['Sub4'].mean()),inplace=True)"
   ]
  },
  {
   "cell_type": "code",
   "execution_count": 72,
   "id": "1a83685e",
   "metadata": {},
   "outputs": [],
   "source": [
    "df['Percentage']=(df['Sub1']+df['Sub2']+df['Sub3']+df['Sub4'])/4"
   ]
  },
  {
   "cell_type": "code",
   "execution_count": 73,
   "id": "0cdbd062",
   "metadata": {},
   "outputs": [
    {
     "data": {
      "text/plain": [
       "<AxesSubplot:>"
      ]
     },
     "execution_count": 73,
     "metadata": {},
     "output_type": "execute_result"
    },
    {
     "data": {
      "image/png": "[encoded data removed]",
      "text/plain": [
       "<Figure size 432x288 with 1 Axes>"
      ]
     },
     "metadata": {
      "needs_background": "light"
     },
     "output_type": "display_data"
    }
   ],
   "source": [
    "df.boxplot(column=['Percentage'],return_type='axes')"
   ]
  },
  {
   "cell_type": "code",
   "execution_count": 75,
   "id": "e0dae810",
   "metadata": {},
   "outputs": [
    {
     "data": {
      "text/html": [
       "<div>\n",
       "<style scoped>\n",
       "    .dataframe tbody tr th:only-of-type {\n",
       "        vertical-align: middle;\n",
       "    }\n",
       "\n",
       "    .dataframe tbody tr th {\n",
       "        vertical-align: top;\n",
       "    }\n",
       "\n",
       "    .dataframe thead th {\n",
       "        text-align: right;\n",
       "    }\n",
       "</style>\n",
       "<table border=\"1\" class=\"dataframe\">\n",
       "  <thead>\n",
       "    <tr style=\"text-align: right;\">\n",
       "      <th></th>\n",
       "      <th>Sub1</th>\n",
       "      <th>Sub2</th>\n",
       "      <th>Sub3</th>\n",
       "      <th>Sub3</th>\n",
       "    </tr>\n",
       "  </thead>\n",
       "  <tbody>\n",
       "    <tr>\n",
       "      <th>min</th>\n",
       "      <td>0.0</td>\n",
       "      <td>0.0</td>\n",
       "      <td>0.0</td>\n",
       "      <td>0.0</td>\n",
       "    </tr>\n",
       "    <tr>\n",
       "      <th>max</th>\n",
       "      <td>1.0</td>\n",
       "      <td>1.0</td>\n",
       "      <td>1.0</td>\n",
       "      <td>1.0</td>\n",
       "    </tr>\n",
       "  </tbody>\n",
       "</table>\n",
       "</div>"
      ],
      "text/plain": [
       "     Sub1  Sub2  Sub3  Sub3\n",
       "min   0.0   0.0   0.0   0.0\n",
       "max   1.0   1.0   1.0   1.0"
      ]
     },
     "execution_count": 75,
     "metadata": {},
     "output_type": "execute_result"
    }
   ],
   "source": [
    "from sklearn.preprocessing import MinMaxScaler\n",
    "scaler = MinMaxScaler()\n",
    "cols=['Sub1','Sub2','Sub3','Sub3']\n",
    "scaler.fit(df[cols])\n",
    "df[cols] = scaler.transform(df[cols])\n",
    "df[cols].describe().loc[['min', 'max']]"
   ]
  },
  {
   "cell_type": "code",
   "execution_count": null,
   "id": "ee36e8fb",
   "metadata": {},
   "outputs": [],
   "source": []
  },
  {
   "cell_type": "code",
   "execution_count": null,
   "id": "44bc36c5",
   "metadata": {},
   "outputs": [],
   "source": []
  },
  {
   "cell_type": "code",
   "execution_count": null,
   "id": "12da2fd1",
   "metadata": {},
   "outputs": [],
   "source": []
  },
  {
   "cell_type": "code",
   "execution_count": null,
   "id": "ad11ef5b",
   "metadata": {},
   "outputs": [],
   "source": []
  },
  {
   "cell_type": "code",
   "execution_count": null,
   "id": "e09066f6",
   "metadata": {},
   "outputs": [],
   "source": []
  }
 ],
 "metadata": {
  "kernelspec": {
   "display_name": "Python 3 (ipykernel)",
   "language": "python",
   "name": "python3"
  },
  "language_info": {
   "codemirror_mode": {
    "name": "ipython",
    "version": 3
   },
   "file_extension": ".py",
   "mimetype": "text/x-python",
   "name": "python",
   "nbconvert_exporter": "python",
   "pygments_lexer": "ipython3",
   "version": "3.9.7"
  }
 },
 "nbformat": 4,
 "nbformat_minor": 5
}
